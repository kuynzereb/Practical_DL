{
 "cells": [
  {
   "cell_type": "markdown",
   "metadata": {
    "collapsed": true
   },
   "source": [
    "# Homework 2.2: The Quest For A Better Network\n",
    "\n",
    "In this assignment you will build a monster network to solve CIFAR10 image classification.\n",
    "\n",
    "This notebook is intended as a sequel to seminar 3, please give it a try if you haven't done so yet."
   ]
  },
  {
   "cell_type": "markdown",
   "metadata": {},
   "source": [
    "(please read it at least diagonally)\n",
    "\n",
    "* The ultimate quest is to create a network that has as high __accuracy__ as you can push it.\n",
    "* There is a __mini-report__ at the end that you will have to fill in. We recommend reading it first and filling it while you iterate.\n",
    " \n",
    "## Grading\n",
    "* starting at zero points\n",
    "* +20% for describing your iteration path in a report below.\n",
    "* +20% for building a network that gets above 20% accuracy\n",
    "* +10% for beating each of these milestones on __TEST__ dataset:\n",
    "    * 50% (50% points)\n",
    "    * 60% (60% points)\n",
    "    * 65% (70% points)\n",
    "    * 70% (80% points)\n",
    "    * 75% (90% points)\n",
    "    * 80% (full points)\n",
    "    \n",
    "## Restrictions\n",
    "* Please do NOT use pre-trained networks for this assignment until you reach 80%.\n",
    " * In other words, base milestones must be beaten without pre-trained nets (and such net must be present in the e-mail). After that, you can use whatever you want.\n",
    "* you __can__ use validation data for training, but you __can't'__ do anything with test data apart from running the evaluation procedure.\n",
    "\n",
    "## Tips on what can be done:\n",
    "\n",
    "\n",
    " * __Network size__\n",
    "   * MOAR neurons, \n",
    "   * MOAR layers, ([torch.nn docs](http://pytorch.org/docs/master/nn.html))\n",
    "\n",
    "   * Nonlinearities in the hidden layers\n",
    "     * tanh, relu, leaky relu, etc\n",
    "   * Larger networks may take more epochs to train, so don't discard your net just because it could didn't beat the baseline in 5 epochs.\n",
    "\n",
    "   * Ph'nglui mglw'nafh Cthulhu R'lyeh wgah'nagl fhtagn!\n",
    "\n",
    "\n",
    "### The main rule of prototyping: one change at a time\n",
    "   * By now you probably have several ideas on what to change. By all means, try them out! But there's a catch: __never test several new things at once__.\n",
    "\n",
    "\n",
    "### Optimization\n",
    "   * Training for 100 epochs regardless of anything is probably a bad idea.\n",
    "   * Some networks converge over 5 epochs, others - over 500.\n",
    "   * Way to go: stop when validation score is 10 iterations past maximum\n",
    "   * You should certainly use adaptive optimizers\n",
    "     * rmsprop, nesterov_momentum, adam, adagrad and so on.\n",
    "     * Converge faster and sometimes reach better optima\n",
    "     * It might make sense to tweak learning rate/momentum, other learning parameters, batch size and number of epochs\n",
    "   * __BatchNormalization__ (nn.BatchNorm2d) for the win!\n",
    "     * Sometimes more batch normalization is better.\n",
    "   * __Regularize__ to prevent overfitting\n",
    "     * Add some L2 weight norm to the loss function, theano will do the rest\n",
    "       * Can be done manually or like [this](https://discuss.pytorch.org/t/simple-l2-regularization/139/2).\n",
    "     * Dropout (`nn.Dropout`) - to prevent overfitting\n",
    "       * Don't overdo it. Check if it actually makes your network better\n",
    "   \n",
    "### Convolution architectures\n",
    "   * This task __can__ be solved by a sequence of convolutions and poolings with batch_norm and ReLU seasoning, but you shouldn't necessarily stop there.\n",
    "   * [Inception family](https://hacktilldawn.com/2016/09/25/inception-modules-explained-and-implemented/), [ResNet family](https://towardsdatascience.com/an-overview-of-resnet-and-its-variants-5281e2f56035?gi=9018057983ca), [Densely-connected convolutions (exotic)](https://arxiv.org/abs/1608.06993), [Capsule networks (exotic)](https://arxiv.org/abs/1710.09829)\n",
    "   * Please do try a few simple architectures before you go for resnet-152.\n",
    "   * Warning! Training convolutional networks can take long without GPU. That's okay.\n",
    "     * If you are CPU-only, we still recomment that you try a simple convolutional architecture\n",
    "     * a perfect option is if you can set it up to run at nighttime and check it up at the morning.\n",
    "     * Make reasonable layer size estimates. A 128-neuron first convolution is likely an overkill.\n",
    "     * __To reduce computation__ time by a factor in exchange for some accuracy drop, try using __stride__ parameter. A stride=2 convolution should take roughly 1/4 of the default (stride=1) one.\n",
    " \n",
    "   \n",
    "### Data augmemntation\n",
    "   * getting 5x as large dataset for free is a great \n",
    "     * Zoom-in+slice = move\n",
    "     * Rotate+zoom(to remove black stripes)\n",
    "     * Add Noize (gaussian or bernoulli)\n",
    "   * Simple way to do that (if you have PIL/Image): \n",
    "     * ```from scipy.misc import imrotate,imresize```\n",
    "     * and a few slicing\n",
    "     * Other cool libraries: cv2, skimake, PIL/Pillow\n",
    "   * A more advanced way is to use torchvision transforms:\n",
    "    ```\n",
    "    transform_train = transforms.Compose([\n",
    "        transforms.RandomCrop(32, padding=4),\n",
    "        transforms.RandomHorizontalFlip(),\n",
    "        transforms.ToTensor(),\n",
    "        transforms.Normalize((0.4914, 0.4822, 0.4465), (0.2023, 0.1994, 0.2010)),\n",
    "    ])\n",
    "    trainset = torchvision.datasets.CIFAR10(root=path_to_cifar_like_in_seminar, train=True, download=True, transform=transform_train)\n",
    "    trainloader = torch.utils.data.DataLoader(trainset, batch_size=128, shuffle=True, num_workers=2)\n",
    "\n",
    "    ```\n",
    "   * Or use this tool from Keras (requires theano/tensorflow): [tutorial](https://blog.keras.io/building-powerful-image-classification-models-using-very-little-data.html), [docs](https://keras.io/preprocessing/image/)\n",
    "   * Stay realistic. There's usually no point in flipping dogs upside down as that is not the way you usually see them.\n",
    "   \n",
    "```\n",
    "\n",
    "```\n",
    "\n",
    "```\n",
    "\n",
    "```\n",
    "\n",
    "```\n",
    "\n",
    "```\n",
    "\n",
    "```\n",
    "\n",
    "```\n",
    "\n",
    "\n",
    "   \n",
    "There is a template for your solution below that you can opt to use or throw away and write it your way."
   ]
  },
  {
   "cell_type": "code",
   "execution_count": 1,
   "metadata": {},
   "outputs": [],
   "source": [
    "import numpy as np\n",
    "import matplotlib.pyplot as plt\n",
    "%matplotlib inline"
   ]
  },
  {
   "cell_type": "code",
   "execution_count": 2,
   "metadata": {},
   "outputs": [
    {
     "name": "stdout",
     "output_type": "stream",
     "text": [
      "Dataset not found. Downloading...\n",
      "(40000, 3, 32, 32) (40000,)\n"
     ]
    }
   ],
   "source": [
    "from cifar import load_cifar10\n",
    "X_train,y_train,X_val,y_val,X_test,y_test = load_cifar10(\"cifar_data\")\n",
    "class_names = np.array(['airplane','automobile ','bird ','cat ','deer ','dog ','frog ','horse ','ship ','truck'])\n",
    "\n",
    "print(X_train.shape,y_train.shape)"
   ]
  },
  {
   "cell_type": "code",
   "execution_count": 3,
   "metadata": {},
   "outputs": [],
   "source": [
    "import torch, torch.nn as nn\n",
    "import torch.nn.functional as F\n",
    "from torch.autograd import Variable\n",
    "class Flatten(nn.Module):\n",
    "    def forward(self, input):\n",
    "        return input.view(input.size(0), -1)"
   ]
  },
  {
   "cell_type": "code",
   "execution_count": 32,
   "metadata": {},
   "outputs": [],
   "source": [
    "model = nn.Sequential()\n",
    "\n",
    "model.add_module('flatten', Flatten())\n",
    "model.add_module('dense1', nn.Linear(3 * 32 * 32, 100))\n",
    "model.add_module('dense1_bn', nn.BatchNorm1d(100))\n",
    "model.add_module('dense1_relu', nn.ReLU())\n",
    "model.add_module('dense2_logits', nn.Linear(100, 10))\n",
    "\n",
    "# model.add_module('conv1', nn.Conv2d(in_channels=3, out_channels=32, kernel_size=3))\n",
    "# model.add_module('conv1_bn', nn.BatchNorm2d(32))\n",
    "# model.add_module('conv1_relu', nn.ReLU())\n",
    "# model.add_module('conv2', nn.Conv2d(in_channels=32, out_channels=64, kernel_size=3))\n",
    "# model.add_module('conv2_bn', nn.BatchNorm2d(64))\n",
    "# model.add_module('pooling2', nn.MaxPool2d(kernel_size=2))\n",
    "# model.add_module('conv2_relu', nn.ReLU())\n",
    "# model.add_module('conv3', nn.Conv2d(in_channels=64, out_channels=64, kernel_size=3))\n",
    "# model.add_module('conv3_bn', nn.BatchNorm2d(64))\n",
    "# model.add_module('conv3_relu', nn.ReLU())\n",
    "# model.add_module('conv4', nn.Conv2d(in_channels=64, out_channels=64, kernel_size=3))\n",
    "# model.add_module('conv4_bn', nn.BatchNorm2d(64))\n",
    "# model.add_module('conv4_relu', nn.ReLU())\n",
    "# model.add_module('pooling4', nn.MaxPool2d(kernel_size=2))\n",
    "# model.add_module('flatten', Flatten())\n",
    "# model.add_module('dense1', nn.Linear(64 * 5 * 5, 512))\n",
    "# model.add_module('dense1_bn', nn.BatchNorm1d(512))\n",
    "# model.add_module('dense1_relu', nn.ReLU())\n",
    "# model.add_module('dense2', nn.Linear(512 , 512))\n",
    "# model.add_module('dense2_bn', nn.BatchNorm1d(512))\n",
    "# model.add_module('dense2_relu', nn.ReLU())\n",
    "# model.add_module('dense2_logits', nn.Linear(512, 10))\n",
    "\n",
    "# model.cuda()\n",
    "_ = _"
   ]
  },
  {
   "cell_type": "code",
   "execution_count": 6,
   "metadata": {},
   "outputs": [],
   "source": [
    "def compute_loss(X_batch, y_batch):\n",
    "    X_batch = Variable(torch.FloatTensor(X_batch))\n",
    "    y_batch = Variable(torch.LongTensor(y_batch))\n",
    "    logits = model(X_batch)\n",
    "    return F.cross_entropy(logits, y_batch).mean()\n",
    "\n",
    "def iterate_minibatches(X, y, batchsize):\n",
    "    indices = np.random.permutation(np.arange(len(X)))\n",
    "    for start in range(0, len(indices), batchsize):\n",
    "        ix = indices[start: start + batchsize]\n",
    "        yield X[ix], y[ix]"
   ]
  },
  {
   "cell_type": "markdown",
   "metadata": {},
   "source": [
    "__ Training __"
   ]
  },
  {
   "cell_type": "code",
   "execution_count": 64,
   "metadata": {},
   "outputs": [],
   "source": [
    "from IPython.display import clear_output\n",
    "import time\n",
    "\n",
    "def train_model(model, X_train, y_train, X_val, y_val, training_params=None):\n",
    "    training_params = training_params or {\n",
    "                                           'num_epochs': 50,\n",
    "                                           'batch_size': 128,\n",
    "                                           'initial_lr': 0.001,\n",
    "                                           'lr_decay_factor': 2,\n",
    "                                           'lr_decay_stride': 10\n",
    "                                         }\n",
    "    num_epochs = training_params['num_epochs']\n",
    "    batch_size = training_params['batch_size']\n",
    "    lr = training_params['initial_lr']\n",
    "    lr_decay_factor = training_params['lr_decay_factor']\n",
    "    lr_decay_stride = training_params['lr_decay_stride']\n",
    "\n",
    "    train_loss_batches = []\n",
    "    val_accuracy_batches = [] \n",
    "    train_loss_epochs = []\n",
    "    val_accuracy_epochs = []\n",
    "    time_epochs = []\n",
    "    \n",
    "    best_accuracy = 0.\n",
    "    best_model_state = None\n",
    "    timer = 0\n",
    "    timer_limit = 5\n",
    "\n",
    "    for epoch in range(num_epochs):\n",
    "        if (epoch + 1) % lr_decay_stride == 0:\n",
    "            lr /= lr_decay_factor\n",
    "        opt = torch.optim.Adam(model.parameters(), lr=lr)\n",
    "        \n",
    "        start_time = time.time()\n",
    "        model.train(True)\n",
    "        for X_batch, y_batch in iterate_minibatches(X_train, y_train, batch_size):\n",
    "            loss = compute_loss(X_batch, y_batch)\n",
    "            loss.backward()\n",
    "            opt.step()\n",
    "            opt.zero_grad()\n",
    "            train_loss_batches.append(loss.data.numpy()[0])\n",
    "        train_loss_epochs.append(np.mean(train_loss_batches[-len(X_train) // batch_size :]))\n",
    "\n",
    "        model.train(False)\n",
    "        for X_batch, y_batch in iterate_minibatches(X_val, y_val, batch_size):\n",
    "            logits = model(Variable(torch.FloatTensor(X_batch)))\n",
    "            y_pred = logits.max(1)[1].data.numpy()\n",
    "            val_accuracy_batches.append(np.mean(y_batch == y_pred))\n",
    "        val_accuracy_epochs.append(np.mean(val_accuracy_batches[-len(X_val) // batch_size :]) * 100)\n",
    "        \n",
    "        time_epochs.append(time.time() - start_time)\n",
    "        \n",
    "        if val_accuracy_epochs[-1] > best_accuracy:\n",
    "            best_accuracy = val_accuracy_epochs[-1]\n",
    "            best_model_state = model.state_dict()\n",
    "            timer = 0\n",
    "        else:\n",
    "            timer += 1\n",
    "        \n",
    "        clear_output(True)\n",
    "        plot_training_log((train_loss_epochs, val_accuracy_epochs))\n",
    "\n",
    "        # Then we print the results for this epoch:\n",
    "        print(\"Epoch {} of {} took {:.3f}s\".format(\n",
    "            epoch + 1, num_epochs, time_epochs[-1]))\n",
    "        print(\"  training loss (in-iteration): \\t{:.6f}\".format(\n",
    "            train_loss_epochs[-1]))\n",
    "        print(\"  validation accuracy: \\t\\t\\t{:.2f} %\".format(\n",
    "            val_accuracy_epochs[-1]))\n",
    "        print(\"  best validation accuracy: \\t\\t{:.2f} %\".format(\n",
    "            best_accuracy))\n",
    "        \n",
    "        if timer > timer_limit:\n",
    "            model.load_state_dict(best_model_state)\n",
    "            break\n",
    "    \n",
    "    return train_loss_epochs, val_accuracy_epochs, time_epochs\n",
    "\n",
    "def plot_training_log(log):\n",
    "    epochs_num = len(log[0])\n",
    "    \n",
    "    fig, ax1 = plt.subplots(figsize=(10, 6))\n",
    "    plt.title('Train loss and val accuracy')\n",
    "\n",
    "    ax1.set_xlabel('Epochs')\n",
    "    ax1.set_ylabel('Loss', color='b')\n",
    "    ax1.tick_params('y', colors='b')\n",
    "    ax1.plot(np.arange(1, epochs_num + 1), log[0], c='b')\n",
    "\n",
    "    ax2 = ax1.twinx()\n",
    "    ax2.set_ylabel('Accuracy', color='r')\n",
    "    ax2.tick_params('y', colors='r')\n",
    "    ax2.plot(np.arange(1, epochs_num + 1), log[1], c='r')\n",
    "\n",
    "    plt.show()"
   ]
  },
  {
   "cell_type": "code",
   "execution_count": 65,
   "metadata": {
    "scrolled": false
   },
   "outputs": [
    {
     "data": {
      "image/png": "[encoded data removed]",
      "text/plain": [
       "<matplotlib.figure.Figure at 0x7fcf4ff2f710>"
      ]
     },
     "metadata": {},
     "output_type": "display_data"
    },
    {
     "name": "stdout",
     "output_type": "stream",
     "text": [
      "Epoch 13 of 50 took 2.963s\n",
      "  training loss (in-iteration): \t0.522429\n",
      "  validation accuracy: \t\t\t46.13 %\n",
      "  best validation accuracy: \t\t46.70 %\n"
     ]
    }
   ],
   "source": [
    "training_params = {\n",
    "    'num_epochs': 50,\n",
    "    'batch_size': 128,\n",
    "    'initial_lr': 0.01,\n",
    "    'lr_decay_factor': 2,\n",
    "    'lr_decay_stride': 10\n",
    "}\n",
    "\n",
    "log = train_model(model, X_train, y_train, X_val, y_val, training_params)"
   ]
  },
  {
   "cell_type": "code",
   "execution_count": 66,
   "metadata": {},
   "outputs": [
    {
     "data": {
      "image/png": "[encoded data removed]",
      "text/plain": [
       "<matplotlib.figure.Figure at 0x7fcf2808e438>"
      ]
     },
     "metadata": {},
     "output_type": "display_data"
    }
   ],
   "source": [
    "plot_training_log(log)"
   ]
  },
  {
   "cell_type": "code",
   "execution_count": 57,
   "metadata": {},
   "outputs": [
    {
     "name": "stdout",
     "output_type": "stream",
     "text": [
      "50.089003164556964\n"
     ]
    }
   ],
   "source": [
    "val_accuracy_batches = []\n",
    "model.train(False)\n",
    "for X_batch, y_batch in iterate_minibatches(X_val, y_val, 128):\n",
    "    logits = model(Variable(torch.FloatTensor(X_batch)))\n",
    "    y_pred = logits.max(1)[1].data.numpy()\n",
    "    val_accuracy_batches.append(np.mean(y_batch == y_pred))\n",
    "print(np.mean(val_accuracy_batches[-len(X_val) // 128 :]) * 100)"
   ]
  },
  {
   "cell_type": "code",
   "execution_count": 28,
   "metadata": {},
   "outputs": [],
   "source": [
    "results = {\n",
    "    'model_state': model.state_dict(),\n",
    "    'model_description': str(model),\n",
    "    'training_params': training_params,\n",
    "    'training_log': log\n",
    "}\n",
    "\n",
    "torch.save(results, 'results_1.dat')"
   ]
  },
  {
   "cell_type": "code",
   "execution_count": 22,
   "metadata": {},
   "outputs": [],
   "source": [
    "downloaded_results = torch.load('results_1.dat')"
   ]
  },
  {
   "cell_type": "code",
   "execution_count": 27,
   "metadata": {},
   "outputs": [
    {
     "data": {
      "text/plain": [
       "([1.5324973,\n",
       "  1.4348086,\n",
       "  1.3607683,\n",
       "  1.3072257,\n",
       "  1.1850921,\n",
       "  1.1428478,\n",
       "  1.1134373,\n",
       "  1.0855072,\n",
       "  1.0644342,\n",
       "  0.987754],\n",
       " [45.46083860759494,\n",
       "  46.24208860759494,\n",
       "  34.236550632911396,\n",
       "  46.95411392405063,\n",
       "  48.54628164556962,\n",
       "  47.67602848101266,\n",
       "  47.013449367088604,\n",
       "  46.89477848101266,\n",
       "  50.51424050632911,\n",
       "  50.870253164556964],\n",
       " [3.1784772872924805,\n",
       "  2.962996006011963,\n",
       "  3.083104372024536,\n",
       "  3.053917169570923,\n",
       "  3.1296420097351074,\n",
       "  3.016979694366455,\n",
       "  2.9956467151641846,\n",
       "  2.9976933002471924,\n",
       "  2.9840610027313232,\n",
       "  2.973116159439087])"
      ]
     },
     "execution_count": 27,
     "metadata": {},
     "output_type": "execute_result"
    }
   ],
   "source": [
    "downloaded_results['training_log']"
   ]
  },
  {
   "cell_type": "code",
   "execution_count": 35,
   "metadata": {},
   "outputs": [
    {
     "name": "stdout",
     "output_type": "stream",
     "text": [
      "Final results:\n",
      "  test accuracy:\t\t50.31 %\n",
      "Achievement unlocked: 60lvl Warlock!\n"
     ]
    }
   ],
   "source": [
    "model.train(False) # disable dropout / use averages for batch_norm\n",
    "test_batch_acc = []\n",
    "for X_batch, y_batch in iterate_minibatches(X_test, y_test, 500):\n",
    "    logits = model(Variable(torch.FloatTensor(X_batch)))\n",
    "    y_pred = logits.max(1)[1].data.numpy()\n",
    "    test_batch_acc.append(np.mean(y_batch == y_pred))\n",
    "\n",
    "test_accuracy = np.mean(test_batch_acc)\n",
    "    \n",
    "print(\"Final results:\")\n",
    "print(\"  test accuracy:\\t\\t{:.2f} %\".format(\n",
    "    test_accuracy * 100))\n",
    "\n",
    "if test_accuracy * 100 > 95:\n",
    "    print(\"Double-check, than consider applying for NIPS'17. SRSly.\")\n",
    "elif test_accuracy * 100 > 90:\n",
    "    print(\"U'r freakin' amazin'!\")\n",
    "elif test_accuracy * 100 > 80:\n",
    "    print(\"Achievement unlocked: 110lvl Warlock!\")\n",
    "elif test_accuracy * 100 > 70:\n",
    "    print(\"Achievement unlocked: 80lvl Warlock!\")\n",
    "elif test_accuracy * 100 > 60:\n",
    "    print(\"Achievement unlocked: 70lvl Warlock!\")\n",
    "elif test_accuracy * 100 > 50:\n",
    "    print(\"Achievement unlocked: 60lvl Warlock!\")\n",
    "else:\n",
    "    print(\"We need more magic! Follow instructons below\")"
   ]
  },
  {
   "cell_type": "markdown",
   "metadata": {},
   "source": [
    "```\n",
    "\n",
    "```\n",
    "\n",
    "```\n",
    "\n",
    "```\n",
    "\n",
    "```\n",
    "\n",
    "```\n",
    "\n",
    "\n",
    "# Report\n",
    "\n",
    "All creative approaches are highly welcome, but at the very least it would be great to mention\n",
    "* the idea;\n",
    "* brief history of tweaks and improvements;\n",
    "* what is the final architecture and why?\n",
    "* what is the training method and, again, why?\n",
    "* Any regularizations and other techniques applied and their effects;\n",
    "\n",
    "\n",
    "There is no need to write strict mathematical proofs (unless you want to).\n",
    " * \"I tried this, this and this, and the second one turned out to be better. And i just didn't like the name of that one\" - OK, but can be better\n",
    " * \"I have analized these and these articles|sources|blog posts, tried that and that to adapt them to my problem and the conclusions are such and such\" - the ideal one\n",
    " * \"I took that code that demo without understanding it, but i'll never confess that and instead i'll make up some pseudoscientific explaination\" - __not_ok__"
   ]
  },
  {
   "cell_type": "markdown",
   "metadata": {},
   "source": [
    "### Hi, my name is `___ ___`, and here's my story\n",
    "\n",
    "A long ago in a galaxy far far away, when it was still more than an hour before deadline, i got an idea:\n",
    "\n",
    "##### I gonna build a neural network, that\n",
    "* brief text on what was\n",
    "* the original idea\n",
    "* and why it was so\n",
    "\n",
    "How could i be so naive?!\n",
    "\n",
    "##### One day, with no signs of warning,\n",
    "This thing has finally converged and\n",
    "* Some explaination about what were the results,\n",
    "* what worked and what didn't\n",
    "* most importantly - what next steps were taken, if any\n",
    "* and what were their respective outcomes\n",
    "\n",
    "##### Finally, after __  iterations, __ mugs of [tea/coffee]\n",
    "* what was the final architecture\n",
    "* as well as training method and tricks\n",
    "\n",
    "That, having wasted ____ [minutes, hours or days] of my life training, got\n",
    "\n",
    "* accuracy on training: __\n",
    "* accuracy on validation: __\n",
    "* accuracy on test: __\n",
    "\n",
    "\n",
    "[an optional afterword and mortal curses on assignment authors]"
   ]
  }
 ],
 "metadata": {
  "kernelspec": {
   "display_name": "Python 3",
   "language": "python",
   "name": "python3"
  },
  "language_info": {
   "codemirror_mode": {
    "name": "ipython",
    "version": 3
   },
   "file_extension": ".py",
   "mimetype": "text/x-python",
   "name": "python",
   "nbconvert_exporter": "python",
   "pygments_lexer": "ipython3",
   "version": "3.6.4"
  }
 },
 "nbformat": 4,
 "nbformat_minor": 1
}
