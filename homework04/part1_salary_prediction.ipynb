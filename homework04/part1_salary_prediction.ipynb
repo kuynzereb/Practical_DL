{
 "cells": [
  {
   "cell_type": "markdown",
   "metadata": {
    "colab_type": "text",
    "id": "JOL0ghqIxZ1N"
   },
   "source": [
    "# Natural Language Processing with Deep Learning\n",
    "\n",
    "__This is exactly the same notebook as in `../week10_textconv/.`__\n",
    "\n",
    "__Feel free submit the seminar notebook, just make sure you read the assignments at the end.__\n",
    "\n",
    "Today we're gonna apply the newly learned DL tools for sequence processing to the task of predicting job salary.\n",
    "\n",
    "Special thanks to [Oleg Vasilev](https://github.com/Omrigan/) for the assignment core (orignally written for theano/tensorflow)."
   ]
  },
  {
   "cell_type": "code",
   "execution_count": 0,
   "metadata": {
    "colab": {
     "autoexec": {
      "startup": false,
      "wait_interval": 0
     }
    },
    "colab_type": "code",
    "collapsed": true,
    "id": "H4pG5JhMxZ1O"
   },
   "outputs": [],
   "source": [
    "import numpy as np\n",
    "import pandas as pd\n",
    "import matplotlib.pyplot as plt\n",
    "%matplotlib inline"
   ]
  },
  {
   "cell_type": "markdown",
   "metadata": {
    "colab_type": "text",
    "id": "hbGygJILxZ1R"
   },
   "source": [
    "### About the challenge\n",
    "For starters, let's download the data from __[here](https://yadi.sk/d/vVEOWPFY3NruT7)__.\n",
    "\n",
    "You can also get it from the competition [page](https://www.kaggle.com/c/job-salary-prediction/data) (in that case, pick `Train_rev1.*`).\n",
    "\n",
    "\n",
    "Our task is to predict one number, __SalaryNormalized__, in the sense of minimizing __Mean Absolute Error__.\n",
    "\n",
    "<img src=\"https://kaggle2.blob.core.windows.net/competitions/kaggle/3342/media/salary%20prediction%20engine%20v2.png\" width=400px>\n",
    "\n",
    "To do so, our model ca access a number of features:\n",
    "* Free text: __`Title`__ and  __`FullDescription`__\n",
    "* Categorical: __`Category`__, __`Company`__, __`LocationNormalized`__, __`ContractType`__, and __`ContractTime`__.\n",
    "\n",
    "\n",
    "You can read more [in the official description](https://www.kaggle.com/c/job-salary-prediction#description)."
   ]
  },
  {
   "cell_type": "code",
   "execution_count": 3,
   "metadata": {
    "colab": {
     "autoexec": {
      "startup": false,
      "wait_interval": 0
     },
     "base_uri": "https://localhost:8080/",
     "height": 366
    },
    "colab_type": "code",
    "executionInfo": {
     "elapsed": 5539,
     "status": "ok",
     "timestamp": 1525188378662,
     "user": {
      "displayName": "Вадим Березнюк",
      "photoUrl": "https://lh3.googleusercontent.com/a/default-user=s128",
      "userId": "103566387676130664775"
     },
     "user_tz": -180
    },
    "id": "ShkLvh_SxZ1S",
    "outputId": "a1477bfd-5afa-42c4-e385-9ec742fdf2b7"
   },
   "outputs": [
    {
     "data": {
      "text/html": [
       "<div>\n",
       "<style scoped>\n",
       "    .dataframe tbody tr th:only-of-type {\n",
       "        vertical-align: middle;\n",
       "    }\n",
       "\n",
       "    .dataframe tbody tr th {\n",
       "        vertical-align: top;\n",
       "    }\n",
       "\n",
       "    .dataframe thead th {\n",
       "        text-align: right;\n",
       "    }\n",
       "</style>\n",
       "<table border=\"1\" class=\"dataframe\">\n",
       "  <thead>\n",
       "    <tr style=\"text-align: right;\">\n",
       "      <th></th>\n",
       "      <th>Id</th>\n",
       "      <th>Title</th>\n",
       "      <th>FullDescription</th>\n",
       "      <th>LocationRaw</th>\n",
       "      <th>LocationNormalized</th>\n",
       "      <th>ContractType</th>\n",
       "      <th>ContractTime</th>\n",
       "      <th>Company</th>\n",
       "      <th>Category</th>\n",
       "      <th>SalaryRaw</th>\n",
       "      <th>SalaryNormalized</th>\n",
       "      <th>SourceName</th>\n",
       "      <th>Log1pSalary</th>\n",
       "    </tr>\n",
       "  </thead>\n",
       "  <tbody>\n",
       "    <tr>\n",
       "      <th>151948</th>\n",
       "      <td>70770622</td>\n",
       "      <td>Web Developer</td>\n",
       "      <td>Web Developer  ASP.NET, C, CSS, jQuery, MVP, E...</td>\n",
       "      <td>Cardiff, Wales</td>\n",
       "      <td>Cardiff</td>\n",
       "      <td>NaN</td>\n",
       "      <td>permanent</td>\n",
       "      <td>CPS Group Cardiff</td>\n",
       "      <td>IT Jobs</td>\n",
       "      <td>30000 - 35000/annum excellent benefits</td>\n",
       "      <td>32500</td>\n",
       "      <td>cv-library.co.uk</td>\n",
       "      <td>10.389026</td>\n",
       "    </tr>\n",
       "    <tr>\n",
       "      <th>166237</th>\n",
       "      <td>71296543</td>\n",
       "      <td>NVQ Assessor Health and Social Care Banbury **...</td>\n",
       "      <td>NVQ Assessor Health and Social Care Due to the...</td>\n",
       "      <td>Oxfordshire</td>\n",
       "      <td>Oxfordshire</td>\n",
       "      <td>NaN</td>\n",
       "      <td>permanent</td>\n",
       "      <td>Pertemps</td>\n",
       "      <td>Other/General Jobs</td>\n",
       "      <td>22000 - 25000/annum</td>\n",
       "      <td>23500</td>\n",
       "      <td>cv-library.co.uk</td>\n",
       "      <td>10.064798</td>\n",
       "    </tr>\n",
       "    <tr>\n",
       "      <th>41829</th>\n",
       "      <td>68408755</td>\n",
       "      <td>Retail Warehouse Assistant  Seasonal</td>\n",
       "      <td>Seasonal Retail Warehouse Assistants Temporary...</td>\n",
       "      <td>Chester</td>\n",
       "      <td>Chester</td>\n",
       "      <td>full_time</td>\n",
       "      <td>NaN</td>\n",
       "      <td>Chester Zoo</td>\n",
       "      <td>Customer Services Jobs</td>\n",
       "      <td>7.24 - 7.24 per hour</td>\n",
       "      <td>13900</td>\n",
       "      <td>Jobcentre Plus</td>\n",
       "      <td>9.539716</td>\n",
       "    </tr>\n",
       "  </tbody>\n",
       "</table>\n",
       "</div>"
      ],
      "text/plain": [
       "              Id                                              Title  \\\n",
       "151948  70770622                                      Web Developer   \n",
       "166237  71296543  NVQ Assessor Health and Social Care Banbury **...   \n",
       "41829   68408755               Retail Warehouse Assistant  Seasonal   \n",
       "\n",
       "                                          FullDescription     LocationRaw  \\\n",
       "151948  Web Developer  ASP.NET, C, CSS, jQuery, MVP, E...  Cardiff, Wales   \n",
       "166237  NVQ Assessor Health and Social Care Due to the...     Oxfordshire   \n",
       "41829   Seasonal Retail Warehouse Assistants Temporary...         Chester   \n",
       "\n",
       "       LocationNormalized ContractType ContractTime            Company  \\\n",
       "151948            Cardiff          NaN    permanent  CPS Group Cardiff   \n",
       "166237        Oxfordshire          NaN    permanent           Pertemps   \n",
       "41829             Chester    full_time          NaN        Chester Zoo   \n",
       "\n",
       "                      Category                               SalaryRaw  \\\n",
       "151948                 IT Jobs  30000 - 35000/annum excellent benefits   \n",
       "166237      Other/General Jobs                     22000 - 25000/annum   \n",
       "41829   Customer Services Jobs                    7.24 - 7.24 per hour   \n",
       "\n",
       "        SalaryNormalized        SourceName  Log1pSalary  \n",
       "151948             32500  cv-library.co.uk    10.389026  \n",
       "166237             23500  cv-library.co.uk    10.064798  \n",
       "41829              13900    Jobcentre Plus     9.539716  "
      ]
     },
     "execution_count": 3,
     "metadata": {
      "tags": []
     },
     "output_type": "execute_result"
    }
   ],
   "source": [
    "data = pd.read_csv(\"./Train_rev1.csv\", index_col=None)\n",
    "data['Log1pSalary'] = np.log1p(data['SalaryNormalized']).astype('float32')\n",
    "\n",
    "text_columns = [\"Title\", \"FullDescription\"]\n",
    "categorical_columns = [\"Category\", \"Company\", \"LocationNormalized\", \"ContractType\", \"ContractTime\"]\n",
    "target_column = \"Log1pSalary\"\n",
    "data[categorical_columns] = data[categorical_columns].fillna('NaN') # cast nan to string\n",
    "\n",
    "data.sample(3)"
   ]
  },
  {
   "cell_type": "markdown",
   "metadata": {
    "colab_type": "text",
    "id": "4u1tcx2lxZ1V"
   },
   "source": [
    "### The NLP part\n",
    "\n",
    "To even begin training our neural network, we're gonna need to preprocess the text features: tokenize it and build the token vocabularies.\n",
    "\n",
    "Since it is not an NLP course, we're gonna use simple built-in NLTK tokenization."
   ]
  },
  {
   "cell_type": "code",
   "execution_count": 4,
   "metadata": {
    "colab": {
     "autoexec": {
      "startup": false,
      "wait_interval": 0
     },
     "base_uri": "https://localhost:8080/",
     "height": 102
    },
    "colab_type": "code",
    "executionInfo": {
     "elapsed": 629,
     "status": "ok",
     "timestamp": 1525188383276,
     "user": {
      "displayName": "Вадим Березнюк",
      "photoUrl": "https://lh3.googleusercontent.com/a/default-user=s128",
      "userId": "103566387676130664775"
     },
     "user_tz": -180
    },
    "id": "2wKqP5okxZ1W",
    "outputId": "263b2841-9328-4d57-c48c-95895cc72593"
   },
   "outputs": [
    {
     "name": "stdout",
     "output_type": "stream",
     "text": [
      "Before\n",
      "0         Engineering Systems Analyst\n",
      "100000                   HR Assistant\n",
      "200000           Senior EC&I Engineer\n",
      "Name: Title, dtype: object\n"
     ]
    }
   ],
   "source": [
    "print(\"Before\")\n",
    "print(data[\"Title\"][::100000])"
   ]
  },
  {
   "cell_type": "code",
   "execution_count": 0,
   "metadata": {
    "colab": {
     "autoexec": {
      "startup": false,
      "wait_interval": 0
     }
    },
    "colab_type": "code",
    "collapsed": true,
    "id": "s3G1eokBxZ1Z"
   },
   "outputs": [],
   "source": [
    "import nltk\n",
    "tokenizer = nltk.tokenize.WordPunctTokenizer()\n",
    "\n",
    "for col in text_columns:\n",
    "    data[col] = data[col].apply(lambda l: ' '.join(tokenizer.tokenize(str(l).lower())))"
   ]
  },
  {
   "cell_type": "markdown",
   "metadata": {
    "colab_type": "text",
    "id": "OPCICjtkxZ1e"
   },
   "source": [
    "Now we can assume that our text is a space-separated list of tokens:"
   ]
  },
  {
   "cell_type": "code",
   "execution_count": 6,
   "metadata": {
    "colab": {
     "autoexec": {
      "startup": false,
      "wait_interval": 0
     },
     "base_uri": "https://localhost:8080/",
     "height": 102
    },
    "colab_type": "code",
    "executionInfo": {
     "elapsed": 540,
     "status": "ok",
     "timestamp": 1525188409878,
     "user": {
      "displayName": "Вадим Березнюк",
      "photoUrl": "https://lh3.googleusercontent.com/a/default-user=s128",
      "userId": "103566387676130664775"
     },
     "user_tz": -180
    },
    "id": "48C2WlJSxZ1e",
    "outputId": "8199f12f-1830-4477-ad4d-f44ebfbf392c"
   },
   "outputs": [
    {
     "name": "stdout",
     "output_type": "stream",
     "text": [
      "After\n",
      "0         engineering systems analyst\n",
      "100000                   hr assistant\n",
      "200000         senior ec & i engineer\n",
      "Name: Title, dtype: object\n"
     ]
    }
   ],
   "source": [
    "print(\"After\")\n",
    "print(data[\"Title\"][::100000])"
   ]
  },
  {
   "cell_type": "markdown",
   "metadata": {
    "colab_type": "text",
    "id": "BHHhiI9JxZ1i"
   },
   "source": [
    "Not all words are equally useful. Some of them are typos or rare words that are only present a few times. \n",
    "\n",
    "Let's see how many times is each word present in the data so that we can build a \"white list\" of known words."
   ]
  },
  {
   "cell_type": "code",
   "execution_count": 0,
   "metadata": {
    "colab": {
     "autoexec": {
      "startup": false,
      "wait_interval": 0
     }
    },
    "colab_type": "code",
    "collapsed": true,
    "id": "W5t0SZYyxZ1j"
   },
   "outputs": [],
   "source": [
    "from collections import Counter\n",
    "token_counts = Counter()\n",
    "\n",
    "# Count how many times does each token occur in both \"Title\" and \"FullDescription\" fields\n",
    "for col in text_columns:\n",
    "    for line in data[col]:\n",
    "        token_counts.update(line.split())"
   ]
  },
  {
   "cell_type": "code",
   "execution_count": 8,
   "metadata": {
    "colab": {
     "autoexec": {
      "startup": false,
      "wait_interval": 0
     },
     "base_uri": "https://localhost:8080/",
     "height": 204
    },
    "colab_type": "code",
    "executionInfo": {
     "elapsed": 540,
     "status": "ok",
     "timestamp": 1525188427518,
     "user": {
      "displayName": "Вадим Березнюк",
      "photoUrl": "https://lh3.googleusercontent.com/a/default-user=s128",
      "userId": "103566387676130664775"
     },
     "user_tz": -180
    },
    "id": "DOUP-X_pxZ1n",
    "outputId": "3ca9a81a-1893-4410-f116-ad14e49c0d9b"
   },
   "outputs": [
    {
     "name": "stdout",
     "output_type": "stream",
     "text": [
      "Total unique tokens : 202704\n",
      "('and', 2657388)\n",
      "('.', 2523216)\n",
      "(',', 2318606)\n",
      "('the', 2080994)\n",
      "('to', 2019884)\n",
      "...\n",
      "('stephanietraveltraderecruitmnt', 1)\n",
      "('ruabon', 1)\n",
      "('lowehays', 1)\n",
      "Correct!\n"
     ]
    }
   ],
   "source": [
    "print(\"Total unique tokens :\", len(token_counts))\n",
    "print('\\n'.join(map(str, token_counts.most_common(n=5))))\n",
    "print('...')\n",
    "print('\\n'.join(map(str, token_counts.most_common()[-3:])))\n",
    "\n",
    "assert token_counts.most_common(1)[0][1] in  range(2600000, 2700000)\n",
    "assert len(token_counts) in range(200000, 210000)\n",
    "print('Correct!')"
   ]
  },
  {
   "cell_type": "code",
   "execution_count": 9,
   "metadata": {
    "colab": {
     "autoexec": {
      "startup": false,
      "wait_interval": 0
     },
     "base_uri": "https://localhost:8080/",
     "height": 300
    },
    "colab_type": "code",
    "executionInfo": {
     "elapsed": 1877,
     "status": "ok",
     "timestamp": 1525188431542,
     "user": {
      "displayName": "Вадим Березнюк",
      "photoUrl": "https://lh3.googleusercontent.com/a/default-user=s128",
      "userId": "103566387676130664775"
     },
     "user_tz": -180
    },
    "id": "7isw91B1xZ1q",
    "outputId": "56178449-da16-421d-c027-a61853ddf591"
   },
   "outputs": [
    {
     "data": {
      "text/plain": [
       "Text(0.5,0,'Counts')"
      ]
     },
     "execution_count": 9,
     "metadata": {
      "tags": []
     },
     "output_type": "execute_result"
    },
    {
     "data": {
      "image/png": "[encoded data removed]",
      "text/plain": [
       "<matplotlib.figure.Figure at 0x7f2aa90b7898>"
      ]
     },
     "metadata": {
      "tags": []
     },
     "output_type": "display_data"
    }
   ],
   "source": [
    "# Let's see how many words are there for each count\n",
    "\n",
    "_=plt.hist(list(token_counts.values()), range=[0, 10**4], bins=50, log=True)\n",
    "plt.xlabel(\"Counts\")"
   ]
  },
  {
   "cell_type": "markdown",
   "metadata": {
    "colab_type": "text",
    "id": "vte4Zm3MxZ1v"
   },
   "source": [
    "__Task 1.1__ Get a list of all tokens that occur at least 10 times."
   ]
  },
  {
   "cell_type": "code",
   "execution_count": 0,
   "metadata": {
    "colab": {
     "autoexec": {
      "startup": false,
      "wait_interval": 0
     }
    },
    "colab_type": "code",
    "collapsed": true,
    "id": "IEHq_OoExZ1w"
   },
   "outputs": [],
   "source": [
    "min_count = 10\n",
    "\n",
    "# tokens from token_counts keys that had at least min_count occurrences throughout the dataset\n",
    "tokens = [token for token, value in token_counts.items() if value >= min_count]\n",
    "\n",
    "# Add a special tokens for unknown and empty words\n",
    "UNK, PAD = \"UNK\", \"PAD\"\n",
    "tokens = [UNK, PAD] + tokens"
   ]
  },
  {
   "cell_type": "code",
   "execution_count": 11,
   "metadata": {
    "colab": {
     "autoexec": {
      "startup": false,
      "wait_interval": 0
     },
     "base_uri": "https://localhost:8080/",
     "height": 51
    },
    "colab_type": "code",
    "executionInfo": {
     "elapsed": 649,
     "status": "ok",
     "timestamp": 1525188435793,
     "user": {
      "displayName": "Вадим Березнюк",
      "photoUrl": "https://lh3.googleusercontent.com/a/default-user=s128",
      "userId": "103566387676130664775"
     },
     "user_tz": -180
    },
    "id": "oMQjGNZHxZ1z",
    "outputId": "9b2e7242-0ac3-4dca-ad6b-673e44fb234f"
   },
   "outputs": [
    {
     "name": "stdout",
     "output_type": "stream",
     "text": [
      "Tokens left: 34158\n",
      "Correct!\n"
     ]
    }
   ],
   "source": [
    "print(\"Tokens left:\", len(tokens))\n",
    "assert type(tokens)==list\n",
    "assert len(tokens) in range(32000,35000)\n",
    "assert 'me' in tokens\n",
    "assert UNK in tokens\n",
    "print(\"Correct!\")"
   ]
  },
  {
   "cell_type": "markdown",
   "metadata": {
    "colab_type": "text",
    "id": "EEEesCVjxZ13"
   },
   "source": [
    "__Task 1.2__ Build an inverse token index: a dictionary from token(string) to it's index in `tokens` (int)"
   ]
  },
  {
   "cell_type": "code",
   "execution_count": 0,
   "metadata": {
    "colab": {
     "autoexec": {
      "startup": false,
      "wait_interval": 0
     }
    },
    "colab_type": "code",
    "collapsed": true,
    "id": "2CikM5WXxZ13"
   },
   "outputs": [],
   "source": [
    "token_to_id = {token: id for id, token in enumerate(tokens)}"
   ]
  },
  {
   "cell_type": "code",
   "execution_count": 13,
   "metadata": {
    "colab": {
     "autoexec": {
      "startup": false,
      "wait_interval": 0
     },
     "base_uri": "https://localhost:8080/",
     "height": 34
    },
    "colab_type": "code",
    "executionInfo": {
     "elapsed": 686,
     "status": "ok",
     "timestamp": 1525188439551,
     "user": {
      "displayName": "Вадим Березнюк",
      "photoUrl": "https://lh3.googleusercontent.com/a/default-user=s128",
      "userId": "103566387676130664775"
     },
     "user_tz": -180
    },
    "id": "P7a12w5SxZ16",
    "outputId": "7f7a5571-dda5-4f47-a33f-9902b8eaf283"
   },
   "outputs": [
    {
     "name": "stdout",
     "output_type": "stream",
     "text": [
      "Correct!\n"
     ]
    }
   ],
   "source": [
    "assert isinstance(token_to_id, dict)\n",
    "assert len(token_to_id) == len(tokens)\n",
    "for tok in tokens:\n",
    "    assert tokens[token_to_id[tok]] == tok\n",
    "\n",
    "print(\"Correct!\")"
   ]
  },
  {
   "cell_type": "markdown",
   "metadata": {
    "colab_type": "text",
    "id": "3genn06fxZ19"
   },
   "source": [
    "And finally, let's use the vocabulary you've built to map text lines into torch-digestible matrices."
   ]
  },
  {
   "cell_type": "code",
   "execution_count": 0,
   "metadata": {
    "colab": {
     "autoexec": {
      "startup": false,
      "wait_interval": 0
     }
    },
    "colab_type": "code",
    "collapsed": true,
    "id": "KWS7xQN-xZ19"
   },
   "outputs": [],
   "source": [
    "UNK_IX, PAD_IX = map(token_to_id.get, [UNK, PAD])\n",
    "\n",
    "def as_matrix(sequences, max_len=None):\n",
    "    \"\"\" Convert a list of tokens into a matrix with padding \"\"\"\n",
    "    if isinstance(sequences[0], str):\n",
    "        sequences = list(map(str.split, sequences))\n",
    "        \n",
    "    max_len = min(max(map(len, sequences)), max_len or float('inf'))\n",
    "    \n",
    "    matrix = np.full((len(sequences), max_len), np.int32(PAD_IX))\n",
    "    for i,seq in enumerate(sequences):\n",
    "        row_ix = [token_to_id.get(word, UNK_IX) for word in seq[:max_len]]\n",
    "        matrix[i, :len(row_ix)] = row_ix\n",
    "    \n",
    "    return matrix"
   ]
  },
  {
   "cell_type": "code",
   "execution_count": 15,
   "metadata": {
    "colab": {
     "autoexec": {
      "startup": false,
      "wait_interval": 0
     },
     "base_uri": "https://localhost:8080/",
     "height": 153
    },
    "colab_type": "code",
    "executionInfo": {
     "elapsed": 654,
     "status": "ok",
     "timestamp": 1525188443894,
     "user": {
      "displayName": "Вадим Березнюк",
      "photoUrl": "https://lh3.googleusercontent.com/a/default-user=s128",
      "userId": "103566387676130664775"
     },
     "user_tz": -180
    },
    "id": "q0afIhM9xZ1_",
    "outputId": "67da2a80-fa48-447e-fda1-d140ab9c6c74"
   },
   "outputs": [
    {
     "name": "stdout",
     "output_type": "stream",
     "text": [
      "engineering systems analyst\n",
      "hr assistant\n",
      "senior ec & i engineer\n",
      "\n",
      "Matrix:\n",
      "[[   2    3    4    1    1]\n",
      " [ 998  176    1    1    1]\n",
      " [  18 3472  242   59    6]]\n"
     ]
    }
   ],
   "source": [
    "#### print(\"Lines:\")\n",
    "print('\\n'.join(data[\"Title\"][::100000].values), end='\\n\\n')\n",
    "print(\"Matrix:\")\n",
    "print(as_matrix(data[\"Title\"][::100000]))"
   ]
  },
  {
   "cell_type": "markdown",
   "metadata": {
    "colab_type": "text",
    "id": "JBVVMMsvxZ2B"
   },
   "source": [
    "Now let's  encode the categirical data we have.\n",
    "\n",
    "As usual, we shall use one-hot encoding for simplicity. Kudos if you implement tf-idf, target averaging or pseudo-counter-based encoding."
   ]
  },
  {
   "cell_type": "code",
   "execution_count": 16,
   "metadata": {
    "colab": {
     "autoexec": {
      "startup": false,
      "wait_interval": 0
     },
     "base_uri": "https://localhost:8080/",
     "height": 51
    },
    "colab_type": "code",
    "executionInfo": {
     "elapsed": 18583,
     "status": "ok",
     "timestamp": 1525188464379,
     "user": {
      "displayName": "Вадим Березнюк",
      "photoUrl": "https://lh3.googleusercontent.com/a/default-user=s128",
      "userId": "103566387676130664775"
     },
     "user_tz": -180
    },
    "id": "8GN3DTWmxZ2E",
    "outputId": "c3c1cd33-ed71-4804-f547-a5e77cb2acb7"
   },
   "outputs": [
    {
     "data": {
      "text/plain": [
       "DictVectorizer(dtype=<class 'numpy.float32'>, separator='=', sort=True,\n",
       "        sparse=False)"
      ]
     },
     "execution_count": 16,
     "metadata": {
      "tags": []
     },
     "output_type": "execute_result"
    }
   ],
   "source": [
    "from sklearn.feature_extraction import DictVectorizer\n",
    "\n",
    "# we only consider top-1k most frequent companies to minimize memory usage\n",
    "top_companies, top_counts = zip(*Counter(data['Company']).most_common(1000))\n",
    "recognized_companies = set(top_companies)\n",
    "data[\"Company\"] = data[\"Company\"].apply(lambda comp: comp if comp in recognized_companies else \"Other\")\n",
    "\n",
    "categorical_vectorizer = DictVectorizer(dtype=np.float32, sparse=False)\n",
    "categorical_vectorizer.fit(data[categorical_columns].apply(dict, axis=1))"
   ]
  },
  {
   "cell_type": "markdown",
   "metadata": {
    "colab_type": "text",
    "id": "vyaapVy4xZ2H"
   },
   "source": [
    "### The data science part\n",
    "\n",
    "Once we've learned to tokenize the data, let's design a machine learning experiment.\n",
    "\n",
    "As before, we won't focus too much on validation, opting for a simple train-test split.\n",
    "\n",
    "__To be completely rigorous,__ we've comitted a small crime here: we used the whole data for tokenization and vocabulary building. A more strict way would be to do that part on training set only. You may want to do that and measure the magnitude of changes."
   ]
  },
  {
   "cell_type": "code",
   "execution_count": 17,
   "metadata": {
    "colab": {
     "autoexec": {
      "startup": false,
      "wait_interval": 0
     },
     "base_uri": "https://localhost:8080/",
     "height": 51
    },
    "colab_type": "code",
    "executionInfo": {
     "elapsed": 722,
     "status": "ok",
     "timestamp": 1525188465173,
     "user": {
      "displayName": "Вадим Березнюк",
      "photoUrl": "https://lh3.googleusercontent.com/a/default-user=s128",
      "userId": "103566387676130664775"
     },
     "user_tz": -180
    },
    "id": "_ETilQKtxZ2J",
    "outputId": "f392fb7b-9a03-43f9-ef11-2467406ebc30"
   },
   "outputs": [
    {
     "name": "stdout",
     "output_type": "stream",
     "text": [
      "Train size =  220291\n",
      "Validation size =  24477\n"
     ]
    }
   ],
   "source": [
    "from sklearn.model_selection import train_test_split\n",
    "\n",
    "data_train, data_val = train_test_split(data, test_size=0.1, random_state=42)\n",
    "\n",
    "print(\"Train size = \", len(data_train))\n",
    "print(\"Validation size = \", len(data_val))"
   ]
  },
  {
   "cell_type": "code",
   "execution_count": 0,
   "metadata": {
    "colab": {
     "autoexec": {
      "startup": false,
      "wait_interval": 0
     }
    },
    "colab_type": "code",
    "collapsed": true,
    "id": "h4tbGHrGxZ2L"
   },
   "outputs": [],
   "source": [
    "def generate_batch(data, batch_size=None, replace=True, max_len=None):\n",
    "    \"\"\"\n",
    "    Creates a pytorch-friendly dict from the batch data.\n",
    "    :returns: a dict with {'title' : int64[batch, title_max_len]\n",
    "    \"\"\"\n",
    "    if batch_size is not None:\n",
    "        data = data.sample(batch_size, replace=replace)\n",
    "    \n",
    "    batch = {}\n",
    "    for col in text_columns:\n",
    "        batch[col] = as_matrix(data[col].values, max_len)\n",
    "    \n",
    "    batch['Categorical'] = categorical_vectorizer.transform(data[categorical_columns].apply(dict, axis=1))\n",
    "    \n",
    "    if target_column in data.columns:\n",
    "        batch[target_column] = data[target_column].values\n",
    "    \n",
    "    return batch"
   ]
  },
  {
   "cell_type": "code",
   "execution_count": 19,
   "metadata": {
    "colab": {
     "autoexec": {
      "startup": false,
      "wait_interval": 0
     },
     "base_uri": "https://localhost:8080/",
     "height": 204
    },
    "colab_type": "code",
    "executionInfo": {
     "elapsed": 616,
     "status": "ok",
     "timestamp": 1525188469654,
     "user": {
      "displayName": "Вадим Березнюк",
      "photoUrl": "https://lh3.googleusercontent.com/a/default-user=s128",
      "userId": "103566387676130664775"
     },
     "user_tz": -180
    },
    "id": "hpkfAR2kxZ2P",
    "outputId": "c38e546d-ba19-4bf5-b33d-101c8f5a5463"
   },
   "outputs": [
    {
     "data": {
      "text/plain": [
       "{'Categorical': array([[0., 0., 0., ..., 0., 0., 0.],\n",
       "        [0., 0., 0., ..., 0., 0., 0.],\n",
       "        [0., 0., 0., ..., 0., 0., 0.]], dtype=float32),\n",
       " 'FullDescription': array([[1111,    6, 2445,   85,   86,   74, 1345,  191, 3162, 1314],\n",
       "        [4112,    0,  214,   73, 1032,   57, 3162, 1953,   55,  142],\n",
       "        [ 141,  363,   63,  368,   64, 2575, 1166, 5723,   74,  360]],\n",
       "       dtype=int32),\n",
       " 'Log1pSalary': array([10.419331,  8.517393, 10.065649], dtype=float32),\n",
       " 'Title': array([[1111,    6,    1],\n",
       "        [4112,    0,    1],\n",
       "        [ 141,  363,  368]], dtype=int32)}"
      ]
     },
     "execution_count": 19,
     "metadata": {
      "tags": []
     },
     "output_type": "execute_result"
    }
   ],
   "source": [
    "generate_batch(data_train, 3, max_len=10)"
   ]
  },
  {
   "cell_type": "markdown",
   "metadata": {
    "colab_type": "text",
    "id": "CD7PY4L0xZ2R"
   },
   "source": [
    "### Finally, let's talk deep learning\n",
    "\n",
    "Out model consists of three branches:\n",
    "* Title encoder\n",
    "* Description encoder\n",
    "* Categorical features encoder\n",
    "\n",
    "We will then feed all 3 branches into one common network that predicts salary.\n",
    "\n",
    "![scheme](https://github.com/yandexdataschool/Practical_DL/raw/master/homework04/conv_salary_architecture.png)"
   ]
  },
  {
   "cell_type": "markdown",
   "metadata": {
    "colab_type": "text",
    "id": "v98DGprtxZ2S"
   },
   "source": [
    "By default, both text vectorizers shall use 1d convolutions, followed by global pooling over time."
   ]
  },
  {
   "cell_type": "code",
   "execution_count": 0,
   "metadata": {
    "colab": {
     "autoexec": {
      "startup": false,
      "wait_interval": 0
     }
    },
    "colab_type": "code",
    "collapsed": true,
    "id": "iriswe8nxZ2T"
   },
   "outputs": [],
   "source": [
    "import torch, torch.nn as nn\n",
    "import torch.nn.functional as F\n",
    "from torch.autograd import Variable\n",
    "\n",
    "class GlobalMaxPooling(nn.Module):\n",
    "    def __init__(self, dim=-1):\n",
    "        super(self.__class__, self).__init__()\n",
    "        self.dim = dim\n",
    "        \n",
    "    def forward(self, x):\n",
    "        return x.max(dim=self.dim)[0]\n",
    "\n",
    "class AttentivePooling(nn.Module):\n",
    "    def __init__(self, u_size):\n",
    "        super().__init__()\n",
    "        \n",
    "        self.net = nn.Sequential(\n",
    "            nn.Linear(u_size, u_size),\n",
    "            nn.ReLU(),\n",
    "            nn.Linear(u_size, 1),\n",
    "        ) \n",
    "    \n",
    "    def forward(self, x):\n",
    "        x = torch.transpose(x, 1, 2).contiguous()\n",
    "        bs, ts, us = x.shape\n",
    "        x = x.view(-1, us)\n",
    "        h = self.net(x)\n",
    "        h = h.view(bs, ts)\n",
    "        probs = F.softmax(h, dim=1)\n",
    "        x = x.view(bs, ts, us)\n",
    "        out = torch.sum(x * probs[:, :, None], dim=1)\n",
    "        return out"
   ]
  },
  {
   "cell_type": "code",
   "execution_count": 0,
   "metadata": {
    "colab": {
     "autoexec": {
      "startup": false,
      "wait_interval": 0
     }
    },
    "colab_type": "code",
    "collapsed": true,
    "id": "tMccSbSGxZ2W"
   },
   "outputs": [],
   "source": [
    "class TitleEncoder(nn.Module):\n",
    "    def __init__(self, n_tokens=len(tokens), out_size=64):\n",
    "        \"\"\" \n",
    "        A simple sequential encoder for titles.\n",
    "        x -> emb -> conv -> global_max -> relu -> dense\n",
    "        \"\"\"\n",
    "        super(self.__class__, self).__init__()\n",
    "        emb_size = 64\n",
    "        self.emb = nn.Embedding(n_tokens, emb_size, padding_idx=PAD_IX)\n",
    "        self.conv1_1 = nn.Conv1d(emb_size, out_size, kernel_size=3, padding=1) \n",
    "        self.conv1_2 = nn.Conv1d(emb_size, out_size, kernel_size=3, padding=1)\n",
    "        self.maxpool = GlobalMaxPooling()    \n",
    "        self.attpool = AttentivePooling(out_size) \n",
    "        self.dense = nn.Linear(4 * out_size, 4 * out_size)\n",
    "\n",
    "    def forward(self, text_ix):\n",
    "        \"\"\"\n",
    "        :param text_ix: int64 Variable of shape [batch_size, max_len]\n",
    "        :returns: float32 Variable of shape [batch_size, out_size]\n",
    "        \"\"\"\n",
    "        h = self.emb(text_ix)\n",
    "\n",
    "        # we transpose from [batch, time, units] to [batch, units, time] to fit Conv1d dim order\n",
    "        h = torch.transpose(h, 1, 2)\n",
    "        \n",
    "        # Apply the layers as defined above. Add some ReLUs before dense.\n",
    "        h1 = self.conv1_1(h)\n",
    "        h1 = F.relu(h1)\n",
    "        h1 = torch.cat([self.maxpool(h1), self.attpool(h1)], dim=1)\n",
    "        h2 = self.conv1_2(h)\n",
    "        h2 = F.relu(h2)\n",
    "        h2 = torch.cat([self.maxpool(h2), self.attpool(h2)], dim=1)\n",
    "        out = self.dense(torch.cat([h1, h2], dim=1))\n",
    "        out = F.relu(out)\n",
    "        \n",
    "        return out"
   ]
  },
  {
   "cell_type": "code",
   "execution_count": 126,
   "metadata": {
    "colab": {
     "autoexec": {
      "startup": false,
      "wait_interval": 0
     },
     "base_uri": "https://localhost:8080/",
     "height": 34
    },
    "colab_type": "code",
    "executionInfo": {
     "elapsed": 638,
     "status": "ok",
     "timestamp": 1525204434467,
     "user": {
      "displayName": "Вадим Березнюк",
      "photoUrl": "https://lh3.googleusercontent.com/a/default-user=s128",
      "userId": "103566387676130664775"
     },
     "user_tz": -180
    },
    "id": "S7ajULRWxZ2a",
    "outputId": "8b21e579-c1b3-422c-fa1a-71a135bc7c59"
   },
   "outputs": [
    {
     "name": "stdout",
     "output_type": "stream",
     "text": [
      "Seems fine\n"
     ]
    }
   ],
   "source": [
    "title_encoder = TitleEncoder(out_size=32)\n",
    "\n",
    "dummy_x = Variable(torch.LongTensor(generate_batch(data_train, 3)['Title']))\n",
    "dummy_v = title_encoder(dummy_x)\n",
    "\n",
    "assert isinstance(dummy_v, Variable)\n",
    "assert tuple(dummy_v.shape) == (dummy_x.shape[0], 4 * 32)\n",
    "\n",
    "del title_encoder\n",
    "print(\"Seems fine\")"
   ]
  },
  {
   "cell_type": "markdown",
   "metadata": {
    "colab_type": "text",
    "id": "7sjZ92yCxZ2d"
   },
   "source": [
    "__Task 2.1__ Create description encoder"
   ]
  },
  {
   "cell_type": "code",
   "execution_count": 0,
   "metadata": {
    "colab": {
     "autoexec": {
      "startup": false,
      "wait_interval": 0
     }
    },
    "colab_type": "code",
    "collapsed": true,
    "id": "yC9mhJYkxZ2e"
   },
   "outputs": [],
   "source": [
    "# Define an encoder for job descriptions.\n",
    "# Use any means you want so long as it's torch.nn.Module.\n",
    "class DescriptionEncoder(nn.Module):\n",
    "    def __init__(self, n_tokens=len(tokens), out_size=64):\n",
    "        \"\"\" \n",
    "        A simple sequential encoder for titles.\n",
    "        x -> emb -> conv -> global_max -> relu -> dense\n",
    "        \"\"\"\n",
    "        super(self.__class__, self).__init__()\n",
    "        emb_size = 64\n",
    "        hid_size = 64\n",
    "        \n",
    "        self.emb = nn.Embedding(n_tokens, emb_size, padding_idx=PAD_IX)\n",
    "        \n",
    "        self.conv1_1 = nn.Conv1d(emb_size, hid_size, kernel_size=3, padding=1, bias=False)\n",
    "        self.bn1_1 = nn.BatchNorm1d(hid_size)\n",
    "        self.conv2_1 = nn.Conv1d(hid_size, out_size, kernel_size=3, padding=1, bias=False)\n",
    "        self.bn2_1 = nn.BatchNorm1d(out_size)\n",
    "        \n",
    "        self.conv1_2 = nn.Conv1d(emb_size, hid_size, kernel_size=3, padding=1, bias=False)\n",
    "        self.bn1_2 = nn.BatchNorm1d(hid_size)\n",
    "        self.conv2_2 = nn.Conv1d(hid_size, out_size, kernel_size=3, padding=1, bias=False)\n",
    "        self.bn2_2 = nn.BatchNorm1d(out_size)\n",
    "        \n",
    "        self.maxpool = GlobalMaxPooling()\n",
    "        self.attpool = AttentivePooling(out_size)        \n",
    "        self.dense = nn.Linear(4 * out_size, 4 * out_size)\n",
    "\n",
    "    def forward(self, text_ix):\n",
    "        \"\"\"\n",
    "        :param text_ix: int64 Variable of shape [batch_size, max_len]\n",
    "        :returns: float32 Variable of shape [batch_size, out_size]\n",
    "        \"\"\"\n",
    "        h = self.emb(text_ix)\n",
    "\n",
    "        # we transpose from [batch, time, units] to [batch, units, time] to fit Conv1d dim order\n",
    "        h = torch.transpose(h, 1, 2)\n",
    "        \n",
    "        # Apply the layers as defined above. Add some ReLUs before dense.\n",
    "        h1 = self.bn1_1(self.conv1_1(h))\n",
    "        h1 = F.relu(h1)\n",
    "        h1 = self.bn2_1(self.conv2_1(h1))\n",
    "        h1 = F.relu(h1)\n",
    "        h1 = torch.cat([self.maxpool(h1), self.attpool(h1)], dim=1)\n",
    "        \n",
    "        h2 = self.bn1_2(self.conv1_2(h))\n",
    "        h2 = F.relu(h2)\n",
    "        h2 = self.bn2_2(self.conv2_2(h2))\n",
    "        h2 = F.relu(h2)\n",
    "        h2 = torch.cat([self.maxpool(h2), self.attpool(h2)], dim=1)\n",
    "        \n",
    "        out = self.dense(torch.cat([h1, h2], dim=1))\n",
    "        out = F.relu(out)\n",
    "        \n",
    "        return out"
   ]
  },
  {
   "cell_type": "code",
   "execution_count": 129,
   "metadata": {
    "colab": {
     "autoexec": {
      "startup": false,
      "wait_interval": 0
     },
     "base_uri": "https://localhost:8080/",
     "height": 34
    },
    "colab_type": "code",
    "executionInfo": {
     "elapsed": 624,
     "status": "ok",
     "timestamp": 1525204453402,
     "user": {
      "displayName": "Вадим Березнюк",
      "photoUrl": "https://lh3.googleusercontent.com/a/default-user=s128",
      "userId": "103566387676130664775"
     },
     "user_tz": -180
    },
    "id": "qnySoWv8xZ2g",
    "outputId": "6dcbc7a1-c721-42ea-cd56-824763c4435b"
   },
   "outputs": [
    {
     "name": "stdout",
     "output_type": "stream",
     "text": [
      "Seems fine too\n"
     ]
    }
   ],
   "source": [
    "desc_encoder = DescriptionEncoder(out_size=32)\n",
    "\n",
    "dummy_x = Variable(torch.LongTensor(generate_batch(data_train, 3)['FullDescription']))\n",
    "dummy_v = desc_encoder(dummy_x)\n",
    "\n",
    "assert isinstance(dummy_v, Variable)\n",
    "assert tuple(dummy_v.shape) == (dummy_x.shape[0], 4 * 32)\n",
    "del desc_encoder\n",
    "print(\"Seems fine too\")"
   ]
  },
  {
   "cell_type": "markdown",
   "metadata": {
    "colab_type": "text",
    "id": "RNkDf6cSxZ2j"
   },
   "source": [
    "__ Task 2.2__ Build one network ~~to rule them all~~"
   ]
  },
  {
   "cell_type": "code",
   "execution_count": 0,
   "metadata": {
    "colab": {
     "autoexec": {
      "startup": false,
      "wait_interval": 0
     }
    },
    "colab_type": "code",
    "collapsed": true,
    "id": "x_XGy1klxZ2k"
   },
   "outputs": [],
   "source": [
    "class FullNetwork(nn.Module):\n",
    "    \"\"\"\n",
    "    This class does all the steps from (title, desc, categorical) features -> predicted target\n",
    "    It unites title & desc encoders you defined above as long as some layers for head and categorical branch.\n",
    "    \"\"\"\n",
    "    \n",
    "    def __init__(self, n_tokens=len(tokens), n_cat_features=len(categorical_vectorizer.vocabulary_)):\n",
    "        super(self.__class__, self).__init__()\n",
    "        \n",
    "        out_size = 64\n",
    "        self.title_encoder = TitleEncoder(out_size=out_size)\n",
    "        self.desc_encoder = DescriptionEncoder(out_size=out_size)\n",
    "        \n",
    "        # define layers for categorical features. A few dense layers would do.\n",
    "        self.fc = nn.Sequential(\n",
    "            nn.Linear(n_cat_features, 256, bias=False),\n",
    "            nn.BatchNorm1d(256),\n",
    "            nn.ReLU(),\n",
    "            nn.Dropout(0.2),\n",
    "            nn.Linear(256, 4 * out_size, bias=False),\n",
    "            nn.BatchNorm1d(4 * out_size),\n",
    "            nn.ReLU(),\n",
    "        )\n",
    "        \n",
    "        # define \"output\" layers that process depend the three encoded vectors into answer\n",
    "        self.out = nn.Sequential(\n",
    "            nn.Linear(4 * out_size * 3, 512, bias=False),\n",
    "            nn.BatchNorm1d(512),\n",
    "            nn.ReLU(),\n",
    "            nn.Dropout(),\n",
    "            nn.Linear(512, 512, bias=False),\n",
    "            nn.BatchNorm1d(512),\n",
    "            nn.ReLU(),\n",
    "            nn.Linear(512, 1)\n",
    "        )\n",
    "        \n",
    "        \n",
    "    def forward(self, title_ix, desc_ix, cat_features):\n",
    "        \"\"\"\n",
    "        :param title_ix: int32 Variable [batch, title_len], job titles encoded by as_matrix\n",
    "        :param desc_ix:  int32 Variable [batch, desc_len] , job descriptions encoded by as_matrix\n",
    "        :param cat_features: float32 Variable [batch, n_cat_features]\n",
    "        :returns: float32 Variable 1d [batch], predicted log1p-salary\n",
    "        \"\"\"\n",
    "        \n",
    "        # process each data source with it's respective encoder\n",
    "        title_h = self.title_encoder(title_ix)\n",
    "        desc_h = self.desc_encoder(desc_ix)\n",
    "        \n",
    "        # apply categorical encoder\n",
    "        cat_h = self.fc(cat_features)\n",
    "        \n",
    "        # concatenate all vectors together...\n",
    "        joint_h = torch.cat([title_h, desc_h, cat_h], dim=1)\n",
    "        \n",
    "        # ... and stack a few more layers at the top\n",
    "        out = self.out(joint_h)\n",
    "        \n",
    "        # Note 1: do not forget to select first columns, [:, 0], to get to 1d outputs\n",
    "        # Note 2: please do not use output nonlinearities.\n",
    "        \n",
    "        return out[:, 0]"
   ]
  },
  {
   "cell_type": "code",
   "execution_count": 0,
   "metadata": {
    "colab": {
     "autoexec": {
      "startup": false,
      "wait_interval": 0
     }
    },
    "colab_type": "code",
    "collapsed": true,
    "id": "QzqjSFDPxZ2m"
   },
   "outputs": [],
   "source": [
    "model = FullNetwork().cuda()\n",
    "opt = torch.optim.Adam(model.parameters(), lr=1e-3)"
   ]
  },
  {
   "cell_type": "code",
   "execution_count": 0,
   "metadata": {
    "colab": {
     "autoexec": {
      "startup": false,
      "wait_interval": 0
     }
    },
    "colab_type": "code",
    "collapsed": true,
    "id": "45S14mMUxZ2p"
   },
   "outputs": [],
   "source": [
    "# test it on one batch\n",
    "\n",
    "batch = generate_batch(data_train, 32)\n",
    "\n",
    "title_ix = Variable(torch.LongTensor(batch[\"Title\"])).cuda()\n",
    "desc_ix = Variable(torch.LongTensor(batch[\"FullDescription\"])).cuda()\n",
    "cat_features = Variable(torch.FloatTensor(batch[\"Categorical\"])).cuda()\n",
    "reference = Variable(torch.FloatTensor(batch[target_column])).cuda()\n",
    "\n",
    "prediction = model(title_ix, desc_ix, cat_features)\n",
    "\n",
    "assert len(prediction.shape) == 1 and prediction.shape[0] == title_ix.shape[0]"
   ]
  },
  {
   "cell_type": "code",
   "execution_count": 0,
   "metadata": {
    "colab": {
     "autoexec": {
      "startup": false,
      "wait_interval": 0
     }
    },
    "colab_type": "code",
    "collapsed": true,
    "id": "oRhS-3aCxZ2r"
   },
   "outputs": [],
   "source": [
    "def compute_loss(reference, prediction):\n",
    "    \"\"\"\n",
    "    Computes objective for minimization.\n",
    "    By deafult we minimize MSE, but you are encouraged to try mix up MSE, MAE, huber loss, etc.\n",
    "    \"\"\"\n",
    "    return torch.mean((prediction - reference) ** 2)\n",
    "\n",
    "def compute_mae(reference, prediction):\n",
    "    \"\"\" Compute MAE on actual salary, assuming your model outputs log1p(salary)\"\"\"\n",
    "    return torch.abs(torch.exp(reference - 1) - torch.exp(prediction - 1)).mean()"
   ]
  },
  {
   "cell_type": "code",
   "execution_count": 0,
   "metadata": {
    "colab": {
     "autoexec": {
      "startup": false,
      "wait_interval": 0
     }
    },
    "colab_type": "code",
    "collapsed": true,
    "id": "4cdcQBO9xZ2x"
   },
   "outputs": [],
   "source": [
    "loss = compute_loss(reference, prediction)\n",
    "dummy_grads = torch.autograd.grad(loss, model.parameters(), retain_graph=True)\n",
    "for grad in dummy_grads:\n",
    "    assert grad is not None and not (grad == 0).all(), \"Some model parameters received zero grads. \" \\\n",
    "                                                       \"Double-check that your model uses all it's layers.\""
   ]
  },
  {
   "cell_type": "markdown",
   "metadata": {
    "colab_type": "text",
    "id": "_tmNkjsNxZ21"
   },
   "source": [
    "### Let's train it!"
   ]
  },
  {
   "cell_type": "code",
   "execution_count": 0,
   "metadata": {
    "colab": {
     "autoexec": {
      "startup": false,
      "wait_interval": 0
     }
    },
    "colab_type": "code",
    "collapsed": true,
    "id": "RuBgQaNGxZ21"
   },
   "outputs": [],
   "source": [
    "from tqdm import trange\n",
    "\n",
    "def iterate_minibatches(data, batch_size=32, max_len=None,\n",
    "                        max_batches=None, shuffle=True, verbose=True):\n",
    "    indices = np.arange(len(data))\n",
    "    if shuffle:\n",
    "        indices = np.random.permutation(indices)\n",
    "    if max_batches is not None:\n",
    "        indices = indices[: batch_size * max_batches]\n",
    "        \n",
    "    irange = trange if verbose else range\n",
    "    \n",
    "    for start in irange(0, len(indices), batch_size):\n",
    "        yield generate_batch(data.iloc[indices[start : start + batch_size]], max_len=max_len)\n",
    "        \n",
    "def plot_training_log(log, start_epoch=1):\n",
    "    epochs_num = len(log[0])\n",
    "    \n",
    "    fig, ax1 = plt.subplots(figsize=(10, 6))\n",
    "    \n",
    "    if len(log[1]):\n",
    "        plt.title('Train mse and val mae')\n",
    "    else:\n",
    "        plt.title('Train mse')\n",
    "\n",
    "    ax1.set_xlabel('Epochs')\n",
    "    ax1.set_ylabel('Train mse', color='b')\n",
    "    ax1.tick_params('y', colors='b')\n",
    "    ax1.plot(np.arange(start_epoch, epochs_num + 1), log[0][start_epoch-1:], c='b')\n",
    "    \n",
    "    if len(log[1]):\n",
    "        ax2 = ax1.twinx()\n",
    "        ax2.set_ylabel('Val mae', color='r')\n",
    "        ax2.tick_params('y', colors='r')\n",
    "        ax2.plot(np.arange(start_epoch, epochs_num + 1), log[1][start_epoch-1:], c='r')\n",
    "\n",
    "    plt.show()"
   ]
  },
  {
   "cell_type": "code",
   "execution_count": 0,
   "metadata": {
    "colab": {
     "autoexec": {
      "startup": false,
      "wait_interval": 0
     }
    },
    "colab_type": "code",
    "collapsed": true,
    "id": "0TH0bzV8xZ24"
   },
   "outputs": [],
   "source": [
    "num_epochs = 100\n",
    "max_len = 100\n",
    "batch_size = 256\n",
    "batches_per_epoch = 500"
   ]
  },
  {
   "cell_type": "code",
   "execution_count": 0,
   "metadata": {
    "colab": {
     "autoexec": {
      "startup": false,
      "wait_interval": 0
     }
    },
    "colab_type": "code",
    "collapsed": true,
    "id": "GpZcvZ4XdZBO"
   },
   "outputs": [],
   "source": [
    "model = FullNetwork().cuda()\n",
    "opt = torch.optim.Adam(model.parameters(), lr=2.5 * 3e-3)\n",
    "scheduler = torch.optim.lr_scheduler.StepLR(opt, step_size=10, gamma=0.5)"
   ]
  },
  {
   "cell_type": "code",
   "execution_count": 156,
   "metadata": {
    "colab": {
     "autoexec": {
      "startup": false,
      "wait_interval": 0
     },
     "base_uri": "https://localhost:8080/",
     "height": 472
    },
    "colab_type": "code",
    "executionInfo": {
     "elapsed": 627,
     "status": "ok",
     "timestamp": 1525212913618,
     "user": {
      "displayName": "Вадим Березнюк",
      "photoUrl": "https://lh3.googleusercontent.com/a/default-user=s128",
      "userId": "103566387676130664775"
     },
     "user_tz": -180
    },
    "id": "DsrJoLOZxZ26",
    "outputId": "ba88da9d-aaf9-4934-c5f9-41b128fa6077"
   },
   "outputs": [
    {
     "name": "stdout",
     "output_type": "stream",
     "text": [
      "Epoch 99 took 37.4 seconds\n",
      "Train loss:\t0.02863\n",
      "Val MAE:\t1945.33640\n",
      "Best val MAE:\t1932.56451\n"
     ]
    },
    {
     "data": {
      "image/png": "[encoded data removed]",
      "text/plain": [
       "<matplotlib.figure.Figure at 0x7f2a38c87128>"
      ]
     },
     "metadata": {
      "tags": []
     },
     "output_type": "display_data"
    }
   ],
   "source": [
    "from IPython.display import clear_output\n",
    "import time\n",
    "from copy import deepcopy\n",
    "\n",
    "train_loss_log = []\n",
    "val_mae_log = []\n",
    "\n",
    "best_mae = 100000\n",
    "best_model_state = None\n",
    "timer = 0\n",
    "timer_limit = 14\n",
    "\n",
    "for epoch_i in range(num_epochs):\n",
    "    scheduler.step()\n",
    "    start_time = time.time()\n",
    "    train_loss = train_mae = train_batches = 0    \n",
    "    model.train(True)\n",
    "    \n",
    "    for batch in iterate_minibatches(data_train, max_batches=batches_per_epoch, verbose=False):\n",
    "\n",
    "        title_ix = Variable(torch.LongTensor(batch[\"Title\"])).cuda()\n",
    "        desc_ix = Variable(torch.LongTensor(batch[\"FullDescription\"])).cuda()\n",
    "        cat_features = Variable(torch.FloatTensor(batch[\"Categorical\"])).cuda()\n",
    "        reference = Variable(torch.FloatTensor(batch[target_column])).cuda()\n",
    "\n",
    "        prediction = model(title_ix, desc_ix, cat_features)\n",
    "\n",
    "        loss = compute_loss(reference, prediction)\n",
    "        loss.backward()\n",
    "        opt.step()\n",
    "        opt.zero_grad()\n",
    "\n",
    "        train_loss += loss.cpu().data.numpy()[0]\n",
    "        train_batches += 1\n",
    "    \n",
    "    train_loss_log.append(train_loss / train_batches)\n",
    "    \n",
    "    val_loss = val_mae = val_batches = 0\n",
    "    model.train(False)\n",
    "    \n",
    "    for batch in iterate_minibatches(data_val, shuffle=False, verbose=False):\n",
    "        title_ix = Variable(torch.LongTensor(batch[\"Title\"]), volatile=True).cuda()\n",
    "        desc_ix = Variable(torch.LongTensor(batch[\"FullDescription\"]), volatile=True).cuda()\n",
    "        cat_features = Variable(torch.FloatTensor(batch[\"Categorical\"]), volatile=True).cuda()\n",
    "        reference = Variable(torch.FloatTensor(batch[target_column]), volatile=True).cuda()\n",
    "\n",
    "        prediction = model(title_ix, desc_ix, cat_features)\n",
    "        val_mae += compute_mae(reference, prediction).cpu().data.numpy()[0]\n",
    "        val_batches += 1\n",
    "    \n",
    "    val_mae_log.append(val_mae / val_batches)\n",
    "    time_elapsed = time.time() - start_time\n",
    "    \n",
    "    if val_mae_log[-1] < best_mae:\n",
    "        best_mae = val_mae_log[-1]\n",
    "        best_model_state = deepcopy(model.state_dict())\n",
    "        timer = 0\n",
    "    else:\n",
    "        timer += 1  \n",
    "    \n",
    "    print('Epoch {} took {:.1f} seconds'.format(epoch_i, time_elapsed))\n",
    "    print(\"Train loss:\\t%.5f\" % (train_loss / train_batches)) \n",
    "    print(\"Val MAE:\\t%.5f\" % (val_mae / val_batches))\n",
    "    print(\"Best val MAE:\\t%.5f\" % best_mae)\n",
    "    plot_training_log([train_loss_log, val_mae_log], 2)\n",
    "    \n",
    "    clear_output(True)\n",
    "    \n",
    "    if timer > timer_limit:\n",
    "            break"
   ]
  },
  {
   "cell_type": "code",
   "execution_count": 0,
   "metadata": {
    "colab": {
     "autoexec": {
      "startup": false,
      "wait_interval": 0
     }
    },
    "colab_type": "code",
    "collapsed": true,
    "id": "ZIRpZoW7utyB"
   },
   "outputs": [],
   "source": [
    "model.load_state_dict(best_model_state)"
   ]
  },
  {
   "cell_type": "code",
   "execution_count": 158,
   "metadata": {
    "colab": {
     "autoexec": {
      "startup": false,
      "wait_interval": 0
     },
     "base_uri": "https://localhost:8080/",
     "height": 404
    },
    "colab_type": "code",
    "executionInfo": {
     "elapsed": 994,
     "status": "ok",
     "timestamp": 1525212937970,
     "user": {
      "displayName": "Вадим Березнюк",
      "photoUrl": "https://lh3.googleusercontent.com/a/default-user=s128",
      "userId": "103566387676130664775"
     },
     "user_tz": -180
    },
    "id": "SZEe3EbsunZ4",
    "outputId": "776e8a1b-1b5c-4ac2-a2de-d77b7d09f5f4"
   },
   "outputs": [
    {
     "data": {
      "image/png": "[encoded data removed]",
      "text/plain": [
       "<matplotlib.figure.Figure at 0x7f2a379ed710>"
      ]
     },
     "metadata": {
      "tags": []
     },
     "output_type": "display_data"
    }
   ],
   "source": [
    "plot_training_log([train_loss_log, val_mae_log], 30)"
   ]
  },
  {
   "cell_type": "code",
   "execution_count": 160,
   "metadata": {
    "colab": {
     "autoexec": {
      "startup": false,
      "wait_interval": 0
     },
     "base_uri": "https://localhost:8080/",
     "height": 119
    },
    "colab_type": "code",
    "executionInfo": {
     "elapsed": 17810,
     "status": "ok",
     "timestamp": 1525213008734,
     "user": {
      "displayName": "Вадим Березнюк",
      "photoUrl": "https://lh3.googleusercontent.com/a/default-user=s128",
      "userId": "103566387676130664775"
     },
     "user_tz": -180
    },
    "id": "gmcmtT_mxZ28",
    "outputId": "661f7b33-0b98-4fc8-f855-6fdfaca52c72"
   },
   "outputs": [
    {
     "name": "stdout",
     "output_type": "stream",
     "text": [
      "Final eval:\n",
      "\tLoss:\t0.04635\n",
      "\tMAE:\t1932.56451\n",
      "\n",
      "\n",
      "\n"
     ]
    }
   ],
   "source": [
    "print(\"Final eval:\")\n",
    "val_loss = val_mae = val_batches = 0\n",
    "\n",
    "for batch in iterate_minibatches(data_val, shuffle=False, verbose=False):\n",
    "    title_ix = Variable(torch.LongTensor(batch[\"Title\"]), volatile=True).cuda()\n",
    "    desc_ix = Variable(torch.LongTensor(batch[\"FullDescription\"]), volatile=True).cuda()\n",
    "    cat_features = Variable(torch.FloatTensor(batch[\"Categorical\"]), volatile=True).cuda()\n",
    "    reference = Variable(torch.FloatTensor(batch[target_column]), volatile=True).cuda()\n",
    "\n",
    "    prediction = model(title_ix, desc_ix, cat_features)\n",
    "    loss = compute_loss(reference, prediction)\n",
    "\n",
    "    val_loss += loss.cpu().data.numpy()[0]\n",
    "    val_mae += compute_mae(reference, prediction).cpu().data.numpy()[0]\n",
    "    val_batches += 1\n",
    "\n",
    "print(\"\\tLoss:\\t%.5f\" % (val_loss / val_batches))\n",
    "print(\"\\tMAE:\\t%.5f\" % (val_mae / val_batches))\n",
    "print('\\n\\n')"
   ]
  },
  {
   "cell_type": "markdown",
   "metadata": {
    "colab_type": "text",
    "id": "3b3lYGe7xZ2-"
   },
   "source": [
    "### Task 3.2: Actually make it work\n",
    "\n",
    "Your main task is to use some of the tricks you've learned on the network and analyze if you can improve __validation MAE__.\n",
    "\n",
    "Try __at least 3 options__ from the list below for a passing grade. If you're into \n",
    "\n",
    "#### A) CNN architecture\n",
    "\n",
    "All the tricks you know about dense and convolutional neural networks apply here as well.\n",
    "* Dropout. Nuff said.\n",
    "* Batch Norm. This time it's `nn.BatchNorm1d`\n",
    "* Parallel convolution layers. The idea is that you apply several nn.Conv1d to the same embeddings and concatenate output channels.\n",
    "* More layers, more neurons, ya know...\n",
    "\n",
    "\n",
    "#### B) Play with pooling\n",
    "\n",
    "There's more than one way to do max pooling:\n",
    "* Max over time - our `GlobalMaxPooling`\n",
    "* Average over time (excluding PAD)\n",
    "* Softmax-pooling:\n",
    "$$ out_{i, t} = \\sum_t {h_{i,t} \\cdot {{e ^ {h_{i, t}}} \\over \\sum_\\tau e ^ {h_{j, \\tau}} } }$$\n",
    "\n",
    "* Attentive pooling\n",
    "$$ out_{i, t} = \\sum_t {h_{i,t} \\cdot Attn(h_t)}$$\n",
    "\n",
    ", where $$ Attn(h_t) = {{e ^ {NN_{attn}(h_t)}} \\over \\sum_\\tau e ^ {NN_{attn}(h_\\tau)}}  $$\n",
    "and $NN_{attn}$ is a small neural network\n",
    "\n",
    "\n",
    "The optimal score is usually achieved by concatenating several different poolings, including several attentive pooling with different $NN_{attn}$\n",
    "\n",
    "#### C) Fun with embeddings\n",
    "\n",
    "It's not always a good idea to train embeddings from scratch. Here's a few tricks:\n",
    "\n",
    "* Use a pre-trained word2vec from [here](http://ahogrammer.com/2017/01/20/the-list-of-pretrained-word-embeddings/) or [here](http://mccormickml.com/2016/04/12/googles-pretrained-word2vec-model-in-python/).\n",
    "* Start with pre-trained embeddings, then fine-tune them with gradient descent\n",
    "* Use the same embedding matrix in title and desc vectorizer\n",
    "\n",
    "#### D) Going recurrent\n",
    "\n",
    "We've already learned that recurrent networks can do cool stuff in sequence modelling. Turns out, they're not useless for classification as well. With some tricks of course..\n",
    "\n",
    "* Like convolutional layers, LSTM should be pooled into a fixed-size vector with some of the poolings.\n",
    "  * Please bear in mind that while convolution uses [batch, units, time] dim order, \n",
    "    recurrent units are built for [batch, time, unit]. You may need to `torch.transpose`.\n",
    "\n",
    "* Since you know all the text in advance, use bidirectional RNN\n",
    "  * Run one LSTM from left to right\n",
    "  * Run another in parallel from right to left \n",
    "  * Concatenate their output sequences along unit axis (dim=-1)\n",
    "\n",
    "* It might be good idea to mix convolutions and recurrent layers differently for title and description\n",
    "\n",
    "\n",
    "#### E) Optimizing seriously\n",
    "\n",
    "* You don't necessarily need 100 epochs. Use early stopping. If you've never done this before, take a look at [keras](https://github.com/keras-team/keras/blob/master/keras/callbacks.py#L461) for inspiration.\n",
    "  * In short, train until you notice that validation\n",
    "  * Maintain the best-on-validation snapshot via `model.state_dict`\n",
    "  * Plotting learning curves is usually a good idea"
   ]
  },
  {
   "cell_type": "markdown",
   "metadata": {
    "colab_type": "text",
    "id": "kTJe4TxsxZ2_"
   },
   "source": [
    "### A short report\n",
    "\n",
    "Please tell us what you did and how did it work.\n",
    "\n",
    "Финальная архитектура содержит батчнормы, несколько параллельных сверточных слоёв, два вида пулинга (макс и аттентив). Была реализована остановка обучения по качеству на валидации, хотя в итоге обучение всё равно длилось все 100 эпох.  Добавление дропаута в финальные полносвязные слои сильно стабилизировало поведение мае на валидации. Введение общего эмбеддинга для двух сетей, обрабатывающих текст, ухудшило результат. Дальнейшие попытки улучшить сеть для обработки описаний вакансий (бо́льшее число слоёв, применение дилейшнов и страйдов) не дали заметных улучшений."
   ]
  }
 ],
 "metadata": {
  "accelerator": "GPU",
  "colab": {
   "collapsed_sections": [
    "3b3lYGe7xZ2-"
   ],
   "default_view": {},
   "name": "part1_salary_prediction.ipynb",
   "provenance": [],
   "version": "0.3.2",
   "views": {}
  },
  "kernelspec": {
   "display_name": "Python [default]",
   "language": "python",
   "name": "python3"
  },
  "language_info": {
   "codemirror_mode": {
    "name": "ipython",
    "version": 3
   },
   "file_extension": ".py",
   "mimetype": "text/x-python",
   "name": "python",
   "nbconvert_exporter": "python",
   "pygments_lexer": "ipython3",
   "version": "3.6.1"
  }
 },
 "nbformat": 4,
 "nbformat_minor": 1
}
