{
 "cells": [
  {
   "cell_type": "markdown",
   "metadata": {},
   "source": [
    "# Homework 1: Differentiation"
   ]
  },
  {
   "cell_type": "markdown",
   "metadata": {},
   "source": [
    "Since it easy to google every task please please please try to undestand what's going on. The \"just answer\" thing will be not counted, make sure to present derivation of your solution. It is absolutely OK if you found an answer on web then just exercise in $\\LaTeX$ copying it into here."
   ]
  },
  {
   "cell_type": "markdown",
   "metadata": {},
   "source": [
    "Useful links: \n",
    "[1](http://www.machinelearning.ru/wiki/images/2/2a/Matrix-Gauss.pdf)\n",
    "[2](http://www.atmos.washington.edu/~dennis/MatrixCalculus.pdf)\n",
    "[3](http://cal.cs.illinois.edu/~johannes/research/matrix%20calculus.pdf)\n",
    "[4](http://research.microsoft.com/en-us/um/people/cmbishop/prml/index.htm)"
   ]
  },
  {
   "cell_type": "markdown",
   "metadata": {},
   "source": [
    "## ex. 1"
   ]
  },
  {
   "cell_type": "markdown",
   "metadata": {},
   "source": [
    "$$  \n",
    "y = x^Tx,  \\quad x \\in \\mathbb{R}^N \n",
    "$$"
   ]
  },
  {
   "cell_type": "markdown",
   "metadata": {},
   "source": [
    "$$\n",
    "\\frac{dy}{dx} = \n",
    "$$ "
   ]
  },
  {
   "cell_type": "markdown",
   "metadata": {
    "collapsed": true
   },
   "source": [
    "$$\n",
    "y = \\sum_i x_i^2\n",
    "$$\n",
    "$$ \n",
    "\\frac{dy}{dx_i} = 2 x_i\n",
    "$$\n",
    "Значит,\n",
    "$$\n",
    "\\frac{dy}{dx} = 2 x\n",
    "$$\n",
    "\n",
    "__Ответ:__\n",
    "$$\n",
    "\\frac{dy}{dx} = 2 x\n",
    "$$"
   ]
  },
  {
   "cell_type": "markdown",
   "metadata": {},
   "source": [
    "## ex. 2"
   ]
  },
  {
   "cell_type": "markdown",
   "metadata": {},
   "source": [
    "$$ y = tr(AB) \\quad A,B \\in \\mathbb{R}^{N \\times N} $$ "
   ]
  },
  {
   "cell_type": "markdown",
   "metadata": {},
   "source": [
    "$$\n",
    "\\frac{dy}{dA} =\n",
    "$$"
   ]
  },
  {
   "cell_type": "markdown",
   "metadata": {
    "collapsed": true
   },
   "source": [
    "Используя нотацию Эйнтштейна можем записать\n",
    "$$\n",
    "y = A_{kl}B_{lk}\n",
    "$$\n",
    "Тогда\n",
    "$$\n",
    "\\left(\\frac{d\\,tr(AB)}{dA}\\right)_{ij} = \\frac{d(A_{kl}B_{lk})}{d(A_{ij})} = B_{ji}\n",
    "$$\n",
    "Значит,\n",
    "$$\n",
    "\\frac{d\\,tr(AB)}{dA} = B^T\n",
    "$$\n",
    "\n",
    "__Ответ:__\n",
    "$$\n",
    "\\frac{d\\,tr(AB)}{dA} = B^T\n",
    "$$\n"
   ]
  },
  {
   "cell_type": "markdown",
   "metadata": {},
   "source": [
    "## ex. 3"
   ]
  },
  {
   "cell_type": "markdown",
   "metadata": {},
   "source": [
    "$$  \n",
    "y = x^TAc , \\quad A\\in \\mathbb{R}^{N \\times N}, x\\in \\mathbb{R}^{N}, c\\in \\mathbb{R}^{N} \n",
    "$$"
   ]
  },
  {
   "cell_type": "markdown",
   "metadata": {},
   "source": [
    "$$\n",
    "\\frac{dy}{dx} =\n",
    "$$"
   ]
  },
  {
   "cell_type": "markdown",
   "metadata": {},
   "source": [
    "$$\n",
    "\\frac{dy}{dA} =\n",
    "$$ "
   ]
  },
  {
   "cell_type": "markdown",
   "metadata": {},
   "source": [
    "Hint for the latter (one of the ways): use *ex. 2* result and the fact \n",
    "$$\n",
    "tr(ABC) = tr (CAB)\n",
    "$$"
   ]
  },
  {
   "cell_type": "markdown",
   "metadata": {
    "collapsed": true
   },
   "source": [
    "$$\n",
    "y = x_i (Ac)_i\n",
    "$$\n",
    "Поэтому\n",
    "$$\n",
    "\\frac{dy}{dx_i} = (Ac)_i\n",
    "$$\n",
    "Значит,\n",
    "$$\n",
    "\\frac{dy}{dx} = Ac\n",
    "$$\n",
    "\n",
    "Теперь заметим, что\n",
    "$$\n",
    "y = x^TAc = tr\\, (x^TAc) = tr\\, (Acx^t)\n",
    "$$\n",
    "В силу прошлого упражнения получаем\n",
    "$$\n",
    "\\frac{dy}{dA} = \\left(cx^T\\right)^T = xc^T\n",
    "$$\n",
    "\n",
    "__Ответ:__\n",
    "$$\n",
    "\\frac{dy}{dx} = Ac \n",
    "$$\n",
    "$$\n",
    "\\frac{dy}{dA} = xc^T\n",
    "$$"
   ]
  },
  {
   "cell_type": "markdown",
   "metadata": {},
   "source": [
    "## ex. 4"
   ]
  },
  {
   "cell_type": "markdown",
   "metadata": {},
   "source": [
    "Classic matrix factorization example. Given matrix $X$ you need to find $A$, $S$ to approximate $X$. This can be done by simple gradient descent iteratively alternating $A$ and $S$ updates.\n",
    "$$\n",
    "J = || X - AS ||_2^2  , \\quad A\\in \\mathbb{R}^{N \\times R} , \\quad S\\in \\mathbb{R}^{R \\times M}\n",
    "$$\n",
    "$$\n",
    "\\frac{dJ}{dS} = ? \n",
    "$$ "
   ]
  },
  {
   "cell_type": "markdown",
   "metadata": {},
   "source": [
    "### First approach\n",
    "Using ex.2 and the fact:\n",
    "$$\n",
    "|| X ||_2^2 = tr(XX^T) \n",
    "$$ \n",
    "it is easy to derive gradients (you can find it in one of the refs). "
   ]
  },
  {
   "cell_type": "markdown",
   "metadata": {
    "collapsed": true
   },
   "source": [
    "### Second approach\n",
    "You can use *slightly different techniques* if they suits you. Take a look at this derivation:\n",
    "<img src=\"grad.png\">\n",
    "(excerpt from [Handbook of blind source separation, Jutten, page 517](https://books.google.ru/books?id=PTbj03bYH6kC&printsec=frontcover&dq=Handbook+of+Blind+Source+Separation&hl=en&sa=X&ved=0ahUKEwi-q_apiJDLAhULvXIKHVXJDWcQ6AEIHDAA#v=onepage&q=Handbook%20of%20Blind%20Source%20Separation&f=false), open for better picture)."
   ]
  },
  {
   "cell_type": "markdown",
   "metadata": {
    "collapsed": true
   },
   "source": [
    "### Third approach\n",
    "And finally we can use chain rule! **YOUR TURN** to do it.\n",
    "let $ F = AS $ \n",
    "\n",
    "**Find**\n",
    "$$\n",
    "\\frac{dJ}{dF} =  \n",
    "$$ \n",
    "and \n",
    "$$\n",
    "\\frac{dF}{dS} =  \n",
    "$$ \n",
    "(the shape should be $ NM \\times RM )$.\n",
    "\n",
    "Now it is easy do get desired gradients:\n",
    "$$\n",
    "\\frac{dJ}{dS} =  \n",
    "$$ "
   ]
  },
  {
   "cell_type": "markdown",
   "metadata": {
    "collapsed": true
   },
   "source": [
    "$$\n",
    "J = || X - F ||_2^2 = \\sum_{i,j} (X_{ij} - F_{ij})^2\n",
    "$$\n",
    "Поэтому\n",
    "$$\n",
    "\\left(\\frac{dJ}{dF}\\right)_{ij} = \\frac{dJ}{dF_{ij}} = -2 (X_{ij} - F_{ij})\n",
    "$$\n",
    "Значит,\n",
    "$$\n",
    "\\frac{dJ}{dF} = 2 (F - X)\n",
    "$$\n",
    "Теперь\n",
    "$$\n",
    "F_{ij} = A_{ir} S_{rj}\n",
    "$$\n",
    "Значит\n",
    "$$\n",
    "\\left(\\frac{dF}{dS}\\right)_{ijkl} = \\frac{dF_{ij}}{dS_{kl}} = \\frac{d A_{ir} S_{rj}}{dS_{kl}} = A_{ik} \\delta_l^j\n",
    "$$\n",
    "В итоге \n",
    "$$\n",
    "\\left(\\frac{dJ}{dS}\\right)_{kl} = \\left(\\frac{dJ}{dF}\\right)_{ij} \\left(\\frac{dF}{dS}\\right)_{ijkl} = 2 (F - X)_{ij} A_{ik} \\delta_l^j = 2 (F - X)_{il} A_{ik} = \\left(2 A^T (F - X)\\right)_{kl}\n",
    "$$\n",
    "То есть\n",
    "$$\n",
    "\\frac{dJ}{dS} = 2 A^T (F - X) = 2 A^T (AS - X)\n",
    "$$\n",
    "\n",
    "__Ответ:__\n",
    "\n",
    "$$\n",
    "\\frac{dJ}{dS} = 2 A^T (AS - X)\n",
    "$$"
   ]
  }
 ],
 "metadata": {
  "kernelspec": {
   "display_name": "Python (DL)",
   "language": "python",
   "name": "dl"
  },
  "language_info": {
   "codemirror_mode": {
    "name": "ipython",
    "version": 3
   },
   "file_extension": ".py",
   "mimetype": "text/x-python",
   "name": "python",
   "nbconvert_exporter": "python",
   "pygments_lexer": "ipython3",
   "version": "3.6.4"
  }
 },
 "nbformat": 4,
 "nbformat_minor": 1
}
